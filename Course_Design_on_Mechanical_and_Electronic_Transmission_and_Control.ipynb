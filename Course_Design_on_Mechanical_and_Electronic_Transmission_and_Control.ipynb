{
  "nbformat": 4,
  "nbformat_minor": 0,
  "metadata": {
    "colab": {
      "name": "Course Design on Mechanical and Electronic Transmission and Control.ipynb",
      "version": "0.3.2",
      "provenance": [],
      "collapsed_sections": [
        "Tb_OcpN5NjtI",
        "yEeucrYMSjwD",
        "Ckj6dwNFSPZG",
        "gKE8dSpeSaP8",
        "EVJSnfYASSue",
        "rwT9LbjwSVGN",
        "j9_lid0JSXZT",
        "AGiuUr_bOff0",
        "z1aAO4eEO-Aj",
        "DKVVQYfgPH2V",
        "xUb28m-PPKY0",
        "Ji3zFlUVPMwk",
        "aKweg191PQYf",
        "m_1_nBm9PStk",
        "mg-Qnka0PV6I",
        "zSRLoqeTPY3K",
        "N-J0ucnNPafy",
        "EKfCIDVyPdhE",
        "uc7SwK_MPguK",
        "rz7z3bINOo-k",
        "MGgukyVURzvr",
        "m5HlbHtBR2nV",
        "kAzREldfR5hb",
        "yY0LI1xxR799",
        "_mpUEUFEOr16",
        "B9WfkKiDOuWT",
        "SeEYGndrOwfI"
      ],
      "toc_visible": true,
      "include_colab_link": true
    },
    "kernelspec": {
      "name": "python3",
      "display_name": "Python 3"
    }
  },
  "cells": [
    {
      "cell_type": "markdown",
      "metadata": {
        "id": "view-in-github",
        "colab_type": "text"
      },
      "source": [
        "<a href=\"https://colab.research.google.com/github/Fu-Qingchen/MachineHelper/blob/master/Course_Design_on_Mechanical_and_Electronic_Transmission_and_Control.ipynb\" target=\"_parent\"><img src=\"https://colab.research.google.com/assets/colab-badge.svg\" alt=\"Open In Colab\"/></a>"
      ]
    },
    {
      "cell_type": "code",
      "metadata": {
        "id": "6GYnTm-7p0ny",
        "colab_type": "code",
        "colab": {
          "base_uri": "https://localhost:8080/",
          "height": 34
        },
        "outputId": "b744cc18-2623-4cff-afd9-928dbbb4f280"
      },
      "source": [
        "print('Hello World!')"
      ],
      "execution_count": 2,
      "outputs": [
        {
          "output_type": "stream",
          "text": [
            "Hello World!\n"
          ],
          "name": "stdout"
        }
      ]
    },
    {
      "cell_type": "markdown",
      "metadata": {
        "id": "Tb_OcpN5NjtI",
        "colab_type": "text"
      },
      "source": [
        "# 0.准备内容\n",
        "\n",
        "\n"
      ]
    },
    {
      "cell_type": "markdown",
      "metadata": {
        "id": "yEeucrYMSjwD",
        "colab_type": "text"
      },
      "source": [
        "## 0.1注意事项"
      ]
    },
    {
      "cell_type": "markdown",
      "metadata": {
        "id": "Ckj6dwNFSPZG",
        "colab_type": "text"
      },
      "source": [
        "### 0.1.1课程设计报告书装订顺序\n",
        "\n",
        "- 课程设计封面（采用学校规定的标准格式，如附件）\n",
        "\n",
        "- 评分记录（采用学校规定的标准格式，如附件）\n",
        "\n",
        "- 课程设计任务书\n",
        "\n",
        "- 目录\n",
        "\n",
        "- 课程设计说明书（A4纸张，至少10页，可参考以下提纲写）\n",
        "\n"
      ]
    },
    {
      "cell_type": "markdown",
      "metadata": {
        "id": "gKE8dSpeSaP8",
        "colab_type": "text"
      },
      "source": [
        "\n",
        "### 0.1.2特别提醒\n",
        "\n",
        "- 严禁抄袭\n",
        "\n",
        "- 设计说明书要求手写\n",
        "\n",
        "- 主电路图手工绘制在3号图纸上\n",
        "\n",
        "- PLC外部接线图及梯型图程序要求打印。"
      ]
    },
    {
      "cell_type": "markdown",
      "metadata": {
        "id": "EVJSnfYASSue",
        "colab_type": "text"
      },
      "source": [
        "## 0.2设计要求\n"
      ]
    },
    {
      "cell_type": "markdown",
      "metadata": {
        "id": "rwT9LbjwSVGN",
        "colab_type": "text"
      },
      "source": [
        "\n",
        "### 0.2.1题目\n",
        "\n",
        "MQ4035门座起重机变幅机构变频调速电气控制线路设计"
      ]
    },
    {
      "cell_type": "markdown",
      "metadata": {
        "id": "j9_lid0JSXZT",
        "colab_type": "text"
      },
      "source": [
        "### 0.2.2初始条件\n",
        "\n",
        "变幅机构由一台鼠笼式异步电动机拖动,有增减幅要求；有调速要求；采用变频调速方式；为保证制动过程平稳，采用双制动器实现软制动；并配置以下保护环节：过电流保护，长期过载保护，双限位保护，零位联锁保护，超负荷限制器幅度保护。\n",
        "\n"
      ]
    },
    {
      "cell_type": "markdown",
      "metadata": {
        "id": "AGiuUr_bOff0",
        "colab_type": "text"
      },
      "source": [
        "# 1.机电传动方案的分析与拟定\n",
        "\n"
      ]
    },
    {
      "cell_type": "markdown",
      "metadata": {
        "id": "z1aAO4eEO-Aj",
        "colab_type": "text"
      },
      "source": [
        "## 1.1变幅机构特性分析\n",
        "\n",
        "变幅机构由一台电动机驱动，电动机功率为22KW，额定电流为46A，电动机过载倍数为2.86；有增减幅要求，故要求电动机能正反方向运行；分四级起动；且有调速要求。变幅机构带有部分位能负载特征，并且属于变负载机构，在全伸出时负载转矩可能超载，控制要求相对高一些；另外变幅机构运行过程中的冲击与振动较大，特别是在大小行程终点更是如此，因此其调速要求较高。为保证制动过程平稳，采用双制动器实现软制动............"
      ]
    },
    {
      "cell_type": "code",
      "metadata": {
        "id": "yq6OVnMOqitG",
        "colab_type": "code",
        "colab": {},
        "cellView": "form"
      },
      "source": [
        "#@title 原始数据\n",
        "#@markdown 以下数据均为国际单位\n",
        "\n",
        "P_N = 22000  #@param\n",
        "I_N = 46  #@param\n",
        "K_Motor_overload = 2.86  #@param\n"
      ],
      "execution_count": 0,
      "outputs": []
    },
    {
      "cell_type": "markdown",
      "metadata": {
        "id": "DKVVQYfgPH2V",
        "colab_type": "text"
      },
      "source": [
        "## 1.2变频调速方案分析与设计\n"
      ]
    },
    {
      "cell_type": "markdown",
      "metadata": {
        "id": "xUb28m-PPKY0",
        "colab_type": "text"
      },
      "source": [
        "\n",
        "### 1.2.1变频调速原理"
      ]
    },
    {
      "cell_type": "markdown",
      "metadata": {
        "id": "Ji3zFlUVPMwk",
        "colab_type": "text"
      },
      "source": [
        "\n",
        "### 1.2.2变频调速控制方式分析\n",
        "\n",
        "U/F控制模式和矢量控制模式（为什么变幅机构采用无速度传感器矢量控制模式）\n"
      ]
    },
    {
      "cell_type": "markdown",
      "metadata": {
        "id": "aKweg191PQYf",
        "colab_type": "text"
      },
      "source": [
        "\n",
        "### 1.2.3变频器选型计算"
      ]
    },
    {
      "cell_type": "markdown",
      "metadata": {
        "id": "m_1_nBm9PStk",
        "colab_type": "text"
      },
      "source": [
        "### 1.2.4制动电路设计"
      ]
    },
    {
      "cell_type": "markdown",
      "metadata": {
        "id": "mg-Qnka0PV6I",
        "colab_type": "text"
      },
      "source": [
        "### 1.2.5变频器输入侧抗干扰措施\n",
        "\n",
        "变频器输入侧装设交流电抗器的作用并确定交流电抗器的规格\n"
      ]
    },
    {
      "cell_type": "markdown",
      "metadata": {
        "id": "zSRLoqeTPY3K",
        "colab_type": "text"
      },
      "source": [
        "\n",
        "## 1.3保护环节设计"
      ]
    },
    {
      "cell_type": "markdown",
      "metadata": {
        "id": "N-J0ucnNPafy",
        "colab_type": "text"
      },
      "source": [
        "\n",
        "\n",
        "### 1.3.1变频器输入侧加自动空气断路器和接触器（作用）\n",
        "\n",
        "并说明断路器和接触器的选择原则"
      ]
    },
    {
      "cell_type": "markdown",
      "metadata": {
        "id": "EKfCIDVyPdhE",
        "colab_type": "text"
      },
      "source": [
        "### 1.3.2变频器与电动机之间加热继电器（作用）"
      ]
    },
    {
      "cell_type": "markdown",
      "metadata": {
        "id": "uc7SwK_MPguK",
        "colab_type": "text"
      },
      "source": [
        "### 1.3.3零位联锁保护和行程保护"
      ]
    },
    {
      "cell_type": "markdown",
      "metadata": {
        "id": "rz7z3bINOo-k",
        "colab_type": "text"
      },
      "source": [
        "# 2.变幅机构PLC控制线路设计\n"
      ]
    },
    {
      "cell_type": "markdown",
      "metadata": {
        "id": "MGgukyVURzvr",
        "colab_type": "text"
      },
      "source": [
        "## 2.1PLC工作原理及特点"
      ]
    },
    {
      "cell_type": "markdown",
      "metadata": {
        "id": "m5HlbHtBR2nV",
        "colab_type": "text"
      },
      "source": [
        "## 2.2PLC输入/输出地址表"
      ]
    },
    {
      "cell_type": "markdown",
      "metadata": {
        "id": "kAzREldfR5hb",
        "colab_type": "text"
      },
      "source": [
        "## 2.3PLC外部接线图"
      ]
    },
    {
      "cell_type": "markdown",
      "metadata": {
        "id": "yY0LI1xxR799",
        "colab_type": "text"
      },
      "source": [
        "## 2.4PLC梯形图程序（标注继电器元件地址号与对应的现场器件符号，并给出程序执行说明）"
      ]
    },
    {
      "cell_type": "markdown",
      "metadata": {
        "id": "_mpUEUFEOr16",
        "colab_type": "text"
      },
      "source": [
        "# 3.变幅机构电路工作原理\n"
      ]
    },
    {
      "cell_type": "markdown",
      "metadata": {
        "id": "B9WfkKiDOuWT",
        "colab_type": "text"
      },
      "source": [
        "\n",
        "# 4.设计小结\n"
      ]
    },
    {
      "cell_type": "markdown",
      "metadata": {
        "id": "SeEYGndrOwfI",
        "colab_type": "text"
      },
      "source": [
        "\n",
        "# 5.参考文献（注意书写格式）"
      ]
    }
  ]
}